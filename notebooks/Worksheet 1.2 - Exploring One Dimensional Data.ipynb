{
 "cells": [
  {
   "cell_type": "markdown",
   "metadata": {},
   "source": [
    "<img src=\"../img/GTK_Logo_Social Icon.jpg\" width=175 align=\"right\" />\n",
    "\n",
    "# Worksheet 1.2:  Exploring One Dimensional Data\n",
    "This worksheet covers concepts covered in the first half of Module 1 - Exploratory Data Analysis in One Dimension.  It should take no more than 20-30 minutes to complete.  Please raise your hand if you get stuck.  \n",
    "\n",
    "There are many ways to accomplish the tasks that you are presented with, however you will find that by using the techniques covered in class, the exercises should be relatively simple. \n",
    "\n",
    "## Import the Libraries\n",
    "For this exercise, we will be using:\n",
    "* Pandas (http://pandas.pydata.org/pandas-docs/stable/)\n",
    "* Numpy (https://docs.scipy.org/doc/numpy/reference/)\n",
    "* Matplotlib (http://matplotlib.org/api/pyplot_api.html)\n"
   ]
  },
  {
   "cell_type": "code",
   "execution_count": 1,
   "metadata": {
    "ExecuteTime": {
     "end_time": "2023-07-03T20:51:50.072362Z",
     "start_time": "2023-07-03T20:51:49.348818Z"
    }
   },
   "outputs": [],
   "source": [
    "import pandas as pd\n",
    "import numpy as np\n",
    "import matplotlib.pyplot as plt\n",
    "plt.style.use('ggplot')\n",
    "%matplotlib inline"
   ]
  },
  {
   "cell_type": "markdown",
   "metadata": {},
   "source": [
    "## Exercise 1: Summarize the Data\n",
    "For this exercise, you are given a Series of random numbers creatively names `random_numbers`.  For the first exercise please do the following:\n",
    "\n",
    "1.  Remove all the numbers less than 10\n",
    "2.  Sort the series\n",
    "3.  Calculate the Tukey 5 number summary for this dataset\n",
    "4.  Count the number of even and odd numbers\n",
    "5.  Find the five largest and 5 smallest numbers in the series"
   ]
  },
  {
   "cell_type": "code",
   "execution_count": 2,
   "metadata": {
    "ExecuteTime": {
     "end_time": "2023-07-03T20:51:52.860441Z",
     "start_time": "2023-07-03T20:51:52.854268Z"
    }
   },
   "outputs": [],
   "source": [
    "#Generate a series of random numbers between 1 and 100. \n",
    "random_numbers = pd.Series(np.random.randint(1, 100, 50))"
   ]
  },
  {
   "cell_type": "code",
   "execution_count": 3,
   "metadata": {
    "ExecuteTime": {
     "end_time": "2020-07-29T12:40:42.041883Z",
     "start_time": "2020-07-29T12:40:42.039879Z"
    }
   },
   "outputs": [
    {
     "data": {
      "text/plain": [
       "0     18\n",
       "1     81\n",
       "2     80\n",
       "3     76\n",
       "4     24\n",
       "5     43\n",
       "6     54\n",
       "7     12\n",
       "8     59\n",
       "9     19\n",
       "10    95\n",
       "11    88\n",
       "12    13\n",
       "14    77\n",
       "15    36\n",
       "16    18\n",
       "18    71\n",
       "19    83\n",
       "20    96\n",
       "21    11\n",
       "22    55\n",
       "23    39\n",
       "24    14\n",
       "25    38\n",
       "26    68\n",
       "27    35\n",
       "28    97\n",
       "29    57\n",
       "30    48\n",
       "31    40\n",
       "32    31\n",
       "33    46\n",
       "34    42\n",
       "35    64\n",
       "36    25\n",
       "38    56\n",
       "39    77\n",
       "40    63\n",
       "41    98\n",
       "42    78\n",
       "43    16\n",
       "44    58\n",
       "45    10\n",
       "47    17\n",
       "48    54\n",
       "49    20\n",
       "dtype: int64"
      ]
     },
     "execution_count": 3,
     "metadata": {},
     "output_type": "execute_result"
    }
   ],
   "source": [
    "# Your code here... \n",
    "#Filter the Series\n",
    "random_numbers_filtered = random_numbers[random_numbers >= 10]\n",
    "random_numbers_filtered"
   ]
  },
  {
   "cell_type": "code",
   "execution_count": 4,
   "metadata": {},
   "outputs": [],
   "source": [
    "#Sort the Series\n",
    "random_numbers_filtered.sort_values(inplace=True)"
   ]
  },
  {
   "cell_type": "code",
   "execution_count": 5,
   "metadata": {},
   "outputs": [
    {
     "data": {
      "text/plain": [
       "count    46.00000\n",
       "mean     50.00000\n",
       "std      27.22254\n",
       "min      10.00000\n",
       "25%      24.25000\n",
       "50%      51.00000\n",
       "75%      74.75000\n",
       "max      98.00000\n",
       "dtype: float64"
      ]
     },
     "execution_count": 5,
     "metadata": {},
     "output_type": "execute_result"
    }
   ],
   "source": [
    "#Calculate the Tukey 5 Number Summary\n",
    "random_numbers_filtered.describe()"
   ]
  },
  {
   "cell_type": "code",
   "execution_count": 6,
   "metadata": {},
   "outputs": [
    {
     "name": "stdout",
     "output_type": "stream",
     "text": [
      "26\n",
      "20\n"
     ]
    }
   ],
   "source": [
    "#Count the number of even and odd numbers\n",
    "even = random_numbers_filtered[random_numbers_filtered%2==0].count()\n",
    "odd = random_numbers_filtered[random_numbers_filtered%2==1].count()\n",
    "print(even)\n",
    "print(odd)"
   ]
  },
  {
   "cell_type": "code",
   "execution_count": 7,
   "metadata": {},
   "outputs": [
    {
     "name": "stdout",
     "output_type": "stream",
     "text": [
      "45    10\n",
      "21    11\n",
      "7     12\n",
      "12    13\n",
      "24    14\n",
      "dtype: int64\n",
      "11    88\n",
      "10    95\n",
      "20    96\n",
      "28    97\n",
      "41    98\n",
      "dtype: int64\n"
     ]
    }
   ],
   "source": [
    "#Find the five largest and smallest numbers\n",
    "smallest = random_numbers_filtered.head(5)\n",
    "largest = random_numbers_filtered.tail(5)\n",
    "\n",
    "print(smallest)\n",
    "print(largest)"
   ]
  },
  {
   "cell_type": "markdown",
   "metadata": {},
   "source": [
    "## Exercise 2: \n",
    "Using the random number Series create a histogram with 8 bins."
   ]
  },
  {
   "cell_type": "code",
   "execution_count": 8,
   "metadata": {},
   "outputs": [
    {
     "data": {
      "text/plain": [
       "<Axes: >"
      ]
     },
     "execution_count": 8,
     "metadata": {},
     "output_type": "execute_result"
    },
    {
     "data": {
      "image/png": "[encoded data removed]",
      "text/plain": [
       "<Figure size 640x480 with 1 Axes>"
      ]
     },
     "metadata": {},
     "output_type": "display_data"
    }
   ],
   "source": [
    "random_numbers_filtered.hist(bins=8)"
   ]
  },
  {
   "cell_type": "markdown",
   "metadata": {},
   "source": [
    "## Exercise 3:\n",
    "You have been given a list of US phone numbers.  The area code is the first three digits.  Your task is to produce a summary of how many times each area code appears in the list. To do this you will need to:\n",
    "1. Extract the area code from each phone number\n",
    "2. Count the unique occurances."
   ]
  },
  {
   "cell_type": "code",
   "execution_count": 9,
   "metadata": {},
   "outputs": [],
   "source": [
    "phone_numbers = [\n",
    "'(833) 759-6854',\n",
    "'(811) 268-9951',\n",
    "'(855) 449-4648',\n",
    "'(833) 212-2929',\n",
    "'(833) 893-7475',\n",
    "'(822) 346-3086',\n",
    "'(844) 259-9074',\n",
    "'(855) 975-8945',\n",
    "'(811) 385-8515',\n",
    "'(811) 523-5090',\n",
    "'(844) 593-5677',\n",
    "'(833) 534-5793',\n",
    "'(899) 898-3043',\n",
    "'(833) 662-7621',\n",
    "'(899) 146-8244',\n",
    "'(822) 793-4965',\n",
    "'(822) 641-7853',\n",
    "'(833) 153-7848',\n",
    "'(811) 958-2930',\n",
    "'(822) 332-3070',\n",
    "'(833) 223-1776',\n",
    "'(811) 397-1451',\n",
    "'(844) 096-0377',\n",
    "'(822) 000-0717',\n",
    "'(899) 311-1880']"
   ]
  },
  {
   "cell_type": "code",
   "execution_count": 10,
   "metadata": {},
   "outputs": [
    {
     "data": {
      "text/plain": [
       "0     (833) 759-6854\n",
       "1     (811) 268-9951\n",
       "2     (855) 449-4648\n",
       "3     (833) 212-2929\n",
       "4     (833) 893-7475\n",
       "5     (822) 346-3086\n",
       "6     (844) 259-9074\n",
       "7     (855) 975-8945\n",
       "8     (811) 385-8515\n",
       "9     (811) 523-5090\n",
       "10    (844) 593-5677\n",
       "11    (833) 534-5793\n",
       "12    (899) 898-3043\n",
       "13    (833) 662-7621\n",
       "14    (899) 146-8244\n",
       "15    (822) 793-4965\n",
       "16    (822) 641-7853\n",
       "17    (833) 153-7848\n",
       "18    (811) 958-2930\n",
       "19    (822) 332-3070\n",
       "20    (833) 223-1776\n",
       "21    (811) 397-1451\n",
       "22    (844) 096-0377\n",
       "23    (822) 000-0717\n",
       "24    (899) 311-1880\n",
       "dtype: object"
      ]
     },
     "execution_count": 10,
     "metadata": {},
     "output_type": "execute_result"
    }
   ],
   "source": [
    "# Your code here... \n",
    "phone_numbers = pd.Series(phone_numbers)\n",
    "phone_numbers"
   ]
  },
  {
   "cell_type": "code",
   "execution_count": 11,
   "metadata": {},
   "outputs": [
    {
     "data": {
      "text/plain": [
       "0     833\n",
       "1     811\n",
       "2     855\n",
       "3     833\n",
       "4     833\n",
       "5     822\n",
       "6     844\n",
       "7     855\n",
       "8     811\n",
       "9     811\n",
       "10    844\n",
       "11    833\n",
       "12    899\n",
       "13    833\n",
       "14    899\n",
       "15    822\n",
       "16    822\n",
       "17    833\n",
       "18    811\n",
       "19    822\n",
       "20    833\n",
       "21    811\n",
       "22    844\n",
       "23    822\n",
       "24    899\n",
       "dtype: object"
      ]
     },
     "execution_count": 11,
     "metadata": {},
     "output_type": "execute_result"
    }
   ],
   "source": [
    "areaCode = phone_numbers.str.slice(1,4)\n",
    "areaCode"
   ]
  },
  {
   "cell_type": "code",
   "execution_count": 12,
   "metadata": {},
   "outputs": [
    {
     "data": {
      "text/plain": [
       "count      25\n",
       "unique      6\n",
       "top       833\n",
       "freq        7\n",
       "dtype: object"
      ]
     },
     "execution_count": 12,
     "metadata": {},
     "output_type": "execute_result"
    }
   ],
   "source": [
    "areaCodeCount = areaCode.describe()\n",
    "areaCodeCount"
   ]
  }
 ],
 "metadata": {
  "kernelspec": {
   "display_name": "Python (dojo-env-jnb)",
   "language": "python",
   "name": "dojo-env-jnb"
  },
  "language_info": {
   "codemirror_mode": {
    "name": "ipython",
    "version": 3
   },
   "file_extension": ".py",
   "mimetype": "text/x-python",
   "name": "python",
   "nbconvert_exporter": "python",
   "pygments_lexer": "ipython3",
   "version": "3.10.10"
  },
  "varInspector": {
   "cols": {
    "lenName": 16,
    "lenType": 16,
    "lenVar": 40
   },
   "kernels_config": {
    "python": {
     "delete_cmd_postfix": "",
     "delete_cmd_prefix": "del ",
     "library": "var_list.py",
     "varRefreshCmd": "print(var_dic_list())"
    },
    "r": {
     "delete_cmd_postfix": ") ",
     "delete_cmd_prefix": "rm(",
     "library": "var_list.r",
     "varRefreshCmd": "cat(var_dic_list()) "
    }
   },
   "types_to_exclude": [
    "module",
    "function",
    "builtin_function_or_method",
    "instance",
    "_Feature"
   ],
   "window_display": false
  }
 },
 "nbformat": 4,
 "nbformat_minor": 4
}
