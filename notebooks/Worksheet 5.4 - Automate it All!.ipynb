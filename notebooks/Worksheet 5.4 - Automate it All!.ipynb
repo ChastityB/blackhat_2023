{
 "cells": [
  {
   "cell_type": "markdown",
   "metadata": {},
   "source": [
    "<img src=\"../img/GTK_Logo_Social Icon.jpg\" width=175 align=\"right\" />\n",
    "\n",
    "\n",
    "#  Worksheet 5.4: Automate it All!\n",
    "This worksheet covers concepts relating to automating a machine learning model using the techniques we learned.  It should take no more than 20-30 minutes to complete.  Please raise your hand if you get stuck.  "
   ]
  },
  {
   "cell_type": "code",
   "execution_count": 1,
   "metadata": {
    "ExecuteTime": {
     "end_time": "2019-02-27T15:21:16.151789Z",
     "start_time": "2019-02-27T15:21:16.145483Z"
    }
   },
   "outputs": [
    {
     "name": "stderr",
     "output_type": "stream",
     "text": [
      "/opt/homebrew/Caskroom/miniforge/base/envs/dojo-env-jnb/lib/python3.10/site-packages/tpot/builtins/__init__.py:36: UserWarning: Warning: optional dependency `torch` is not available. - skipping import of NN models.\n",
      "  warnings.warn(\"Warning: optional dependency `torch` is not available. - skipping import of NN models.\")\n"
     ]
    }
   ],
   "source": [
    "# Load Libraries - Make sure to run this cell!\n",
    "import pandas as pd\n",
    "from sklearn.model_selection import train_test_split\n",
    "import scikitplot as skplt\n",
    "from sklearn.metrics import classification_report\n",
    "import matplotlib.pyplot as plt\n",
    "import lime\n",
    "from tpot import TPOTClassifier\n",
    "%matplotlib inline"
   ]
  },
  {
   "cell_type": "markdown",
   "metadata": {},
   "source": [
    "## Step One:  Import the Data\n",
    "In this example, we're going to use the dataset we used in worksheet 5.3.  Run the following code to read in the data, extract the features and target vector."
   ]
  },
  {
   "cell_type": "code",
   "execution_count": 3,
   "metadata": {
    "ExecuteTime": {
     "end_time": "2019-02-27T04:55:31.723676Z",
     "start_time": "2019-02-27T04:55:31.708177Z"
    }
   },
   "outputs": [],
   "source": [
    "df = pd.read_csv('../data/dga_features_final_df.csv')\n",
    "y = df['isDGA']\n",
    "X = df.drop(['isDGA'], axis=1)"
   ]
  },
  {
   "cell_type": "markdown",
   "metadata": {},
   "source": [
    "Next, perform the test/train split in the conventional manner."
   ]
  },
  {
   "cell_type": "code",
   "execution_count": 4,
   "metadata": {
    "ExecuteTime": {
     "end_time": "2019-02-27T15:28:07.887489Z",
     "start_time": "2019-02-27T15:28:07.885031Z"
    }
   },
   "outputs": [],
   "source": [
    "# Your code here ...\n",
    "X_train, X_test, y_train, y_test = train_test_split(X, y, test_size=0.25)"
   ]
  },
  {
   "cell_type": "markdown",
   "metadata": {},
   "source": [
    "## Step Two:  Run the Optimizer\n",
    "In the next step, use TPOT to create a classification pipeline using the DGA data set that we have been using.  The `TPOTClassifier()` has many configuration options and in the interest of time, please set the following variables when you instantiate the classifier.\n",
    "\n",
    "* `max_eval_time_mins`:  In the interests of time, set this to 15 or 20.\n",
    "* `verbosity`: Set to 1 or 2 so you can see what TPOT is doing.\n",
    "\n",
    "\n",
    "**Note:  This step will take some time, so you might want to get some coffee or a snack when it is running.**  While this is running take a look at the other configuration options available here: http://epistasislab.github.io/tpot/api/.  "
   ]
  },
  {
   "cell_type": "code",
   "execution_count": 5,
   "metadata": {
    "ExecuteTime": {
     "end_time": "2019-02-27T06:03:30.680093Z",
     "start_time": "2019-02-27T04:59:00.937173Z"
    }
   },
   "outputs": [
    {
     "data": {
      "application/vnd.jupyter.widget-view+json": {
       "model_id": "",
       "version_major": 2,
       "version_minor": 0
      },
      "text/plain": [
       "Optimization Progress:   0%|          | 0/10100 [00:00<?, ?pipeline/s]"
      ]
     },
     "metadata": {},
     "output_type": "display_data"
    },
    {
     "name": "stdout",
     "output_type": "stream",
     "text": [
      "\n",
      "Generation 1 - Current best internal CV score: 0.9173333333333333\n",
      "\n",
      "Generation 2 - Current best internal CV score: 0.9173333333333333\n",
      "\n",
      "Generation 3 - Current best internal CV score: 0.9173333333333333\n",
      "\n",
      "Generation 4 - Current best internal CV score: 0.9173333333333333\n",
      "\n",
      "Generation 5 - Current best internal CV score: 0.9226666666666666\n",
      "\n",
      "Generation 6 - Current best internal CV score: 0.9226666666666666\n",
      "\n",
      "Generation 7 - Current best internal CV score: 0.9226666666666666\n",
      "\n",
      "Generation 8 - Current best internal CV score: 0.9226666666666666\n",
      "\n",
      "Generation 9 - Current best internal CV score: 0.9226666666666666\n",
      "\n",
      "Generation 10 - Current best internal CV score: 0.9226666666666666\n",
      "\n",
      "Generation 11 - Current best internal CV score: 0.9226666666666666\n",
      "\n",
      "Generation 12 - Current best internal CV score: 0.9226666666666666\n",
      "\n",
      "Generation 13 - Current best internal CV score: 0.9226666666666666\n",
      "\n",
      "Generation 14 - Current best internal CV score: 0.9226666666666666\n",
      "\n",
      "Generation 15 - Current best internal CV score: 0.9226666666666666\n",
      "\n",
      "Generation 16 - Current best internal CV score: 0.9226666666666666\n",
      "\n",
      "Generation 17 - Current best internal CV score: 0.9226666666666666\n",
      "\n",
      "Generation 18 - Current best internal CV score: 0.9226666666666666\n",
      "\n",
      "Generation 19 - Current best internal CV score: 0.9226666666666666\n",
      "\n",
      "Generation 20 - Current best internal CV score: 0.9226666666666666\n",
      "\n",
      "Generation 21 - Current best internal CV score: 0.9226666666666666\n",
      "\n",
      "Generation 22 - Current best internal CV score: 0.9226666666666666\n",
      "\n",
      "Generation 23 - Current best internal CV score: 0.9226666666666666\n",
      "\n",
      "Generation 24 - Current best internal CV score: 0.9226666666666666\n",
      "\n",
      "Generation 25 - Current best internal CV score: 0.9226666666666666\n",
      "\n",
      "Generation 26 - Current best internal CV score: 0.9226666666666666\n",
      "\n",
      "Generation 27 - Current best internal CV score: 0.9226666666666666\n",
      "\n",
      "Generation 28 - Current best internal CV score: 0.9226666666666666\n",
      "\n",
      "Generation 29 - Current best internal CV score: 0.9226666666666666\n",
      "\n",
      "Generation 30 - Current best internal CV score: 0.9226666666666666\n",
      "\n",
      "Generation 31 - Current best internal CV score: 0.9226666666666666\n",
      "\n",
      "Generation 32 - Current best internal CV score: 0.9226666666666666\n",
      "\n",
      "Generation 33 - Current best internal CV score: 0.9226666666666666\n",
      "\n",
      "Generation 34 - Current best internal CV score: 0.9226666666666666\n",
      "\n",
      "Generation 35 - Current best internal CV score: 0.9226666666666666\n",
      "\n",
      "Generation 36 - Current best internal CV score: 0.9226666666666666\n",
      "\n",
      "Generation 37 - Current best internal CV score: 0.9226666666666666\n",
      "\n",
      "Generation 38 - Current best internal CV score: 0.9226666666666666\n",
      "\n",
      "Generation 39 - Current best internal CV score: 0.9226666666666666\n",
      "\n",
      "Generation 40 - Current best internal CV score: 0.9226666666666666\n",
      "\n",
      "Generation 41 - Current best internal CV score: 0.9226666666666666\n",
      "\n",
      "Generation 42 - Current best internal CV score: 0.9226666666666666\n",
      "\n",
      "Generation 43 - Current best internal CV score: 0.9226666666666666\n",
      "\n",
      "Generation 44 - Current best internal CV score: 0.9226666666666666\n",
      "\n",
      "Generation 45 - Current best internal CV score: 0.9226666666666666\n",
      "\n",
      "Generation 46 - Current best internal CV score: 0.9226666666666666\n",
      "\n",
      "Generation 47 - Current best internal CV score: 0.9226666666666666\n",
      "\n",
      "Generation 48 - Current best internal CV score: 0.9226666666666666\n",
      "\n",
      "Generation 49 - Current best internal CV score: 0.9226666666666666\n",
      "\n",
      "Generation 50 - Current best internal CV score: 0.9226666666666666\n",
      "\n",
      "Generation 51 - Current best internal CV score: 0.9226666666666666\n",
      "\n",
      "Generation 52 - Current best internal CV score: 0.9226666666666666\n",
      "\n",
      "Generation 53 - Current best internal CV score: 0.9226666666666666\n",
      "\n",
      "Generation 54 - Current best internal CV score: 0.9226666666666666\n",
      "\n",
      "Generation 55 - Current best internal CV score: 0.9226666666666666\n",
      "\n",
      "Generation 56 - Current best internal CV score: 0.9226666666666666\n",
      "\n",
      "Generation 57 - Current best internal CV score: 0.9226666666666666\n",
      "\n",
      "Generation 58 - Current best internal CV score: 0.9226666666666666\n",
      "\n",
      "Generation 59 - Current best internal CV score: 0.9226666666666666\n",
      "\n",
      "Generation 60 - Current best internal CV score: 0.9226666666666666\n",
      "\n",
      "Generation 61 - Current best internal CV score: 0.9226666666666666\n",
      "\n",
      "Generation 62 - Current best internal CV score: 0.9226666666666666\n",
      "\n",
      "Generation 63 - Current best internal CV score: 0.9226666666666666\n",
      "\n",
      "Generation 64 - Current best internal CV score: 0.9226666666666666\n",
      "\n",
      "Generation 65 - Current best internal CV score: 0.9226666666666666\n",
      "\n",
      "Generation 66 - Current best internal CV score: 0.9226666666666666\n",
      "\n",
      "Generation 67 - Current best internal CV score: 0.9226666666666666\n",
      "\n",
      "Generation 68 - Current best internal CV score: 0.9226666666666666\n",
      "\n",
      "Generation 69 - Current best internal CV score: 0.9226666666666666\n",
      "\n",
      "Generation 70 - Current best internal CV score: 0.9226666666666666\n",
      "\n",
      "Generation 71 - Current best internal CV score: 0.9226666666666666\n",
      "\n",
      "Generation 72 - Current best internal CV score: 0.9226666666666666\n",
      "\n",
      "Generation 73 - Current best internal CV score: 0.9226666666666666\n",
      "\n",
      "Generation 74 - Current best internal CV score: 0.9226666666666666\n",
      "\n",
      "Generation 75 - Current best internal CV score: 0.9226666666666666\n",
      "\n",
      "Generation 76 - Current best internal CV score: 0.9226666666666666\n",
      "\n",
      "Generation 77 - Current best internal CV score: 0.9226666666666666\n",
      "\n",
      "Generation 78 - Current best internal CV score: 0.9226666666666666\n",
      "\n",
      "Generation 79 - Current best internal CV score: 0.9226666666666666\n",
      "\n",
      "Generation 80 - Current best internal CV score: 0.9226666666666666\n",
      "\n",
      "Generation 81 - Current best internal CV score: 0.9226666666666666\n",
      "\n",
      "Generation 82 - Current best internal CV score: 0.9226666666666666\n",
      "\n",
      "Generation 83 - Current best internal CV score: 0.9226666666666666\n",
      "\n",
      "Generation 84 - Current best internal CV score: 0.9226666666666666\n",
      "\n",
      "Generation 85 - Current best internal CV score: 0.9226666666666666\n",
      "\n",
      "Generation 86 - Current best internal CV score: 0.9226666666666666\n",
      "\n",
      "Generation 87 - Current best internal CV score: 0.9226666666666666\n",
      "\n",
      "Generation 88 - Current best internal CV score: 0.9226666666666666\n",
      "\n",
      "Generation 89 - Current best internal CV score: 0.9226666666666666\n",
      "\n",
      "Generation 90 - Current best internal CV score: 0.9226666666666666\n",
      "\n",
      "Generation 91 - Current best internal CV score: 0.9226666666666666\n",
      "\n",
      "Generation 92 - Current best internal CV score: 0.9226666666666666\n",
      "\n",
      "Generation 93 - Current best internal CV score: 0.9226666666666666\n",
      "\n",
      "Generation 94 - Current best internal CV score: 0.9226666666666666\n",
      "\n",
      "Generation 95 - Current best internal CV score: 0.9226666666666666\n",
      "\n",
      "Generation 96 - Current best internal CV score: 0.9226666666666666\n",
      "\n",
      "Generation 97 - Current best internal CV score: 0.9226666666666666\n",
      "\n",
      "Generation 98 - Current best internal CV score: 0.9226666666666666\n",
      "\n",
      "Generation 99 - Current best internal CV score: 0.9226666666666666\n",
      "\n",
      "Generation 100 - Current best internal CV score: 0.9226666666666666\n",
      "\n",
      "Best pipeline: ExtraTreesClassifier(RobustScaler(input_matrix), bootstrap=False, criterion=entropy, max_features=0.05, min_samples_leaf=1, min_samples_split=11, n_estimators=100)\n",
      "0.906\n"
     ]
    }
   ],
   "source": [
    "# Your code here... \n",
    "tpot = TPOTClassifier(max_eval_time_mins=20, verbosity=2)\n",
    "tpot.fit(X_train, y_train)\n",
    "print(tpot.score(X_test, y_test))"
   ]
  },
  {
   "cell_type": "markdown",
   "metadata": {},
   "source": [
    "## Step Three:  Evaluate the Performance\n",
    "Now that you have a trained model, the next step is to evaluate the performance and see how TPOT did in comparison with earlier models we created.  Use the techniques you've learned to evaluate the performance of your model.  Specifically, print out the `classification report` and a confusion matrix. \n",
    "\n",
    "Unfortunately, Yellowbrick will not work in this instance, however, you can generate a similar visual confusion matrix with the following code:\n",
    "\n",
    "```\n",
    "import scikitplot as skplt\n",
    "skplt.metrics.confusion_matrix(optimized_preds, target_test)\n",
    "\n",
    "```\n",
    "\n",
    "What is the accuracy of your model?  Is it significantly better than what you did in earlier labs?"
   ]
  },
  {
   "cell_type": "code",
   "execution_count": 7,
   "metadata": {
    "ExecuteTime": {
     "end_time": "2019-02-27T15:21:37.710556Z",
     "start_time": "2019-02-27T15:21:37.700287Z"
    }
   },
   "outputs": [
    {
     "name": "stdout",
     "output_type": "stream",
     "text": [
      "              precision    recall  f1-score   support\n",
      "\n",
      "           0       0.96      0.86      0.91       269\n",
      "           1       0.85      0.96      0.90       231\n",
      "\n",
      "    accuracy                           0.91       500\n",
      "   macro avg       0.91      0.91      0.91       500\n",
      "weighted avg       0.91      0.91      0.91       500\n",
      "\n",
      "[[231  38]\n",
      " [  9 222]]\n"
     ]
    }
   ],
   "source": [
    "# Your code here...\n",
    "pred = tpot.predict(X_test)\n",
    "# Output the classification report\n",
    "class_report = classification_report(pred, y_test)\n",
    "# Render the confusion matrix\n",
    "skplt_report = skplt.metrics.confusion_matrix(pred, y_test)\n",
    "\n",
    "print(class_report)\n",
    "print(skplt_report)"
   ]
  },
  {
   "cell_type": "markdown",
   "metadata": {},
   "source": [
    "## Step 4:  Export your Pipeline\n",
    "If you are happy with the results from `TPOT` you can export the pipeline as python code. The final step in this lab is to export the pipeline as a file called `automate_ml.py` and examine it.  What model and preprocessing steps t"
   ]
  },
  {
   "cell_type": "code",
   "execution_count": 8,
   "metadata": {},
   "outputs": [],
   "source": [
    "# Your code here... \n",
    "tpot.export('automate_ml.py')"
   ]
  }
 ],
 "metadata": {
  "kernelspec": {
   "display_name": "Python (dojo-env-jnb)",
   "language": "python",
   "name": "dojo-env-jnb"
  },
  "language_info": {
   "codemirror_mode": {
    "name": "ipython",
    "version": 3
   },
   "file_extension": ".py",
   "mimetype": "text/x-python",
   "name": "python",
   "nbconvert_exporter": "python",
   "pygments_lexer": "ipython3",
   "version": "3.10.10"
  },
  "varInspector": {
   "cols": {
    "lenName": 16,
    "lenType": 16,
    "lenVar": 40
   },
   "kernels_config": {
    "python": {
     "delete_cmd_postfix": "",
     "delete_cmd_prefix": "del ",
     "library": "var_list.py",
     "varRefreshCmd": "print(var_dic_list())"
    },
    "r": {
     "delete_cmd_postfix": ") ",
     "delete_cmd_prefix": "rm(",
     "library": "var_list.r",
     "varRefreshCmd": "cat(var_dic_list()) "
    }
   },
   "types_to_exclude": [
    "module",
    "function",
    "builtin_function_or_method",
    "instance",
    "_Feature"
   ],
   "window_display": false
  }
 },
 "nbformat": 4,
 "nbformat_minor": 4
}
